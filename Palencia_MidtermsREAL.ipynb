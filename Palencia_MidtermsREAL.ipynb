{
 "cells": [
  {
   "cell_type": "code",
   "execution_count": 2,
   "metadata": {},
   "outputs": [
    {
     "name": "stdout",
     "output_type": "stream",
     "text": [
      "Room 'Palencia_Midterms' created with ID: Y2lzY29zcGFyazovL3VybjpURUFNOnVzLXdlc3QtMl9yL1JPT00vNmUwOTBjYzAtODQ3ZC0xMWVmLWJiYmItNzU3MDBjNmZjYjQz\n",
      "Message sent to room 'Palencia_Midterms': Welcome!\n"
     ]
    }
   ],
   "source": [
    "from webexteamssdk import WebexTeamsAPI\n",
    "\n",
    "api = WebexTeamsAPI(access_token='MjIyZjA0N2YtNDYzZS00ODYzLWExMjAtZTM2YTYwMDU4ZjAyM2RjMTM0ODEtNzlk_P0A1_1ad92174-dfe2-4740-b008-57218895946c')\n",
    "\n",
    "room_name = input(\"Room name: \")\n",
    "\n",
    "welcome_message = input(\"Welcome message: \")\n",
    "\n",
    "room = api.rooms.create(room_name)\n",
    "print(f\"Room '{room.title}' created with ID: {room.id}\")\n",
    "\n",
    "message = api.messages.create(room.id, text=welcome_message)\n",
    "print(f\"Message sent to room '{room.title}': {message.text}\")"
   ]
  },
  {
   "cell_type": "code",
   "execution_count": 5,
   "metadata": {},
   "outputs": [
    {
     "name": "stdout",
     "output_type": "stream",
     "text": [
      "Added chanreinhold29@gmail.com to the room 'Palencia_Midterms'\n",
      "Added ellisnuevas00@gmail.com to the room 'Palencia_Midterms'\n",
      "Added brianvincentgalang@gmail.com to the room 'Palencia_Midterms'\n"
     ]
    }
   ],
   "source": [
    "\n",
    "participants = ['chanreinhold29@gmail.com', 'ellisnuevas00@gmail.com', 'brianvincentgalang@gmail.com']\n",
    "\n",
    "\n",
    "for email in participants:\n",
    "    api.memberships.create(room.id, personEmail=email)\n",
    "    print(f\"Added {email} to the room '{room.title}'\")\n"
   ]
  },
  {
   "cell_type": "code",
   "execution_count": 6,
   "metadata": {},
   "outputs": [
    {
     "name": "stdout",
     "output_type": "stream",
     "text": [
      "Message ID: Y2lzY29zcGFyazovL3VybjpURUFNOnVzLXdlc3QtMl9yL01FU1NBR0UvNmU1ZTU4YjAtODQ3ZC0xMWVmLTgxYTEtYTVmZmU0MjA0NDNj, Text: Welcome!\n",
      "Message with ID Y2lzY29zcGFyazovL3VybjpURUFNOnVzLXdlc3QtMl9yL01FU1NBR0UvNmU1ZTU4YjAtODQ3ZC0xMWVmLTgxYTEtYTVmZmU0MjA0NDNj has been deleted.\n"
     ]
    }
   ],
   "source": [
    "\n",
    "messages = api.messages.list(room.id)\n",
    "for message in messages:\n",
    "    print(f\"Message ID: {message.id}, Text: {message.text}\")\n",
    "\n",
    "\n",
    "message_id_to_delete = input(\"Enter the message ID to delete: \")\n",
    "\n",
    "\n",
    "api.messages.delete(message_id_to_delete)\n",
    "print(f\"Message with ID {message_id_to_delete} has been deleted.\")\n"
   ]
  },
  {
   "cell_type": "code",
   "execution_count": null,
   "metadata": {},
   "outputs": [],
   "source": [
    "from faker import Faker\n",
    "\n",
    "\n",
    "fake = Faker()\n",
    "\n",
    "\n",
    "for _ in range(10):\n",
    "    profile = {\n",
    "        'Full Name': fake.name(),\n",
    "        'Email': fake.email(),\n",
    "        'Job Title': fake.job(),\n",
    "        'Company': fake.company()\n",
    "    }\n",
    "    print(profile)"
   ]
  },
  {
   "cell_type": "code",
   "execution_count": null,
   "metadata": {},
   "outputs": [],
   "source": [
    "import random\n",
    "from faker import Faker\n",
    "\n",
    "\n",
    "fake = Faker()\n",
    "\n",
    "\n",
    "for _ in range(10):\n",
    "    transaction = {\n",
    "        'Transaction ID': fake.uuid4(),\n",
    "        'Amount': round(random.uniform(10.0, 1000.0), 2),\n",
    "        'Date': fake.date_this_year()\n",
    "    }\n",
    "    print(transaction)\n"
   ]
  }
 ],
 "metadata": {
  "kernelspec": {
   "display_name": "Python 3",
   "language": "python",
   "name": "python3"
  },
  "language_info": {
   "codemirror_mode": {
    "name": "ipython",
    "version": 3
   },
   "file_extension": ".py",
   "mimetype": "text/x-python",
   "name": "python",
   "nbconvert_exporter": "python",
   "pygments_lexer": "ipython3",
   "version": "3.12.3"
  }
 },
 "nbformat": 4,
 "nbformat_minor": 2
}
